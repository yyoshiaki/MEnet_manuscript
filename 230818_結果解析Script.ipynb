{
 "cells": [
  {
   "cell_type": "code",
   "execution_count": 1,
   "metadata": {},
   "outputs": [],
   "source": [
    "import numpy as np\n",
    "import pandas as pd\n",
    "import numpy as np\n",
    "from numpy.random import randn\n",
    "import pandas as pd\n",
    "import math\n",
    "import pingouin as pg\n",
    "from scipy.cluster.hierarchy import linkage, dendrogram, leaves_list\n",
    "from scipy.spatial.distance import pdist\n",
    "\n",
    "from sklearn.decomposition import PCA\n",
    "\n",
    "import numpy as np\n",
    "import pandas as pd\n",
    "from pandas import Series,DataFrame\n",
    "\n",
    "import matplotlib as mpl\n",
    "import matplotlib.pyplot as plt\n",
    "import seaborn as sns\n",
    "\n",
    "from sklearn.preprocessing import StandardScaler\n",
    "from IPython.display import display\n",
    "\n",
    "import matplotlib as mpl\n",
    "mpl.rcParams['figure.facecolor'] = (1,1,1,1)\n",
    "mpl.rcParams['pdf.fonttype'] = 42\n",
    "mpl.rcParams['ps.fonttype'] = 42\n",
    "\n",
    "pd.set_option('display.max_columns', 80)\n",
    "\n",
    "\n",
    "%matplotlib inline"
   ]
  },
  {
   "cell_type": "code",
   "execution_count": 2,
   "metadata": {},
   "outputs": [
    {
     "data": {
      "text/html": [
       "<div>\n",
       "<style scoped>\n",
       "    .dataframe tbody tr th:only-of-type {\n",
       "        vertical-align: middle;\n",
       "    }\n",
       "\n",
       "    .dataframe tbody tr th {\n",
       "        vertical-align: top;\n",
       "    }\n",
       "\n",
       "    .dataframe thead th {\n",
       "        text-align: right;\n",
       "    }\n",
       "</style>\n",
       "<table border=\"1\" class=\"dataframe\">\n",
       "  <thead>\n",
       "    <tr style=\"text-align: right;\">\n",
       "      <th></th>\n",
       "      <th>Sample</th>\n",
       "      <th>FFPE_ID</th>\n",
       "      <th>がん種</th>\n",
       "      <th>MEnet</th>\n",
       "      <th>Lym</th>\n",
       "      <th>NaN</th>\n",
       "      <th>NaN</th>\n",
       "      <th>NaN</th>\n",
       "      <th>NaN</th>\n",
       "    </tr>\n",
       "  </thead>\n",
       "  <tbody>\n",
       "    <tr>\n",
       "      <th>1</th>\n",
       "      <td>PK2h_DC2h</td>\n",
       "      <td>H2009233-1</td>\n",
       "      <td>SCC</td>\n",
       "      <td>0.159245</td>\n",
       "      <td>0.578836</td>\n",
       "      <td>NaN</td>\n",
       "      <td>NaN</td>\n",
       "      <td>PK2h_DC2h</td>\n",
       "      <td>0.159245</td>\n",
       "    </tr>\n",
       "    <tr>\n",
       "      <th>2</th>\n",
       "      <td>WGBS16-22_16_FFPE_183</td>\n",
       "      <td>H2100094-1</td>\n",
       "      <td>Melanoma</td>\n",
       "      <td>0.149016</td>\n",
       "      <td>0.721955</td>\n",
       "      <td>NaN</td>\n",
       "      <td>NaN</td>\n",
       "      <td>WGBS16-22_16_FFPE_183</td>\n",
       "      <td>0.149016</td>\n",
       "    </tr>\n",
       "    <tr>\n",
       "      <th>3</th>\n",
       "      <td>WGBS16-22_17_FFPE_184</td>\n",
       "      <td>H2100551-2</td>\n",
       "      <td>Melanoma</td>\n",
       "      <td>0.435179</td>\n",
       "      <td>0.75953</td>\n",
       "      <td>NaN</td>\n",
       "      <td>NaN</td>\n",
       "      <td>WGBS16-22_17_FFPE_184</td>\n",
       "      <td>0.435179</td>\n",
       "    </tr>\n",
       "    <tr>\n",
       "      <th>4</th>\n",
       "      <td>WGBS16-22_18_FFPE_185</td>\n",
       "      <td>H2100550-2</td>\n",
       "      <td>SCC</td>\n",
       "      <td>0.0645853</td>\n",
       "      <td>0.802156</td>\n",
       "      <td>NaN</td>\n",
       "      <td>NaN</td>\n",
       "      <td>WGBS16-22_18_FFPE_185</td>\n",
       "      <td>0.0645853</td>\n",
       "    </tr>\n",
       "    <tr>\n",
       "      <th>5</th>\n",
       "      <td>WGBS16-22_20_FFPE_187</td>\n",
       "      <td>H2101326-1</td>\n",
       "      <td>SCC</td>\n",
       "      <td>0.00752026</td>\n",
       "      <td>0.600813</td>\n",
       "      <td>NaN</td>\n",
       "      <td>NaN</td>\n",
       "      <td>WGBS16-22_20_FFPE_187</td>\n",
       "      <td>0.00752026</td>\n",
       "    </tr>\n",
       "    <tr>\n",
       "      <th>6</th>\n",
       "      <td>WGBS16-22_22_FFPE_191</td>\n",
       "      <td>H2102572-1</td>\n",
       "      <td>Melanoma</td>\n",
       "      <td>0.0662738</td>\n",
       "      <td>0.700247</td>\n",
       "      <td>NaN</td>\n",
       "      <td>NaN</td>\n",
       "      <td>WGBS16-22_22_FFPE_191</td>\n",
       "      <td>0.0662738</td>\n",
       "    </tr>\n",
       "    <tr>\n",
       "      <th>7</th>\n",
       "      <td>WGBS23-28_30_23_FFPE_194</td>\n",
       "      <td>H2103616-1</td>\n",
       "      <td>Melanoma</td>\n",
       "      <td>0.896746</td>\n",
       "      <td>0.82837</td>\n",
       "      <td>NaN</td>\n",
       "      <td>NaN</td>\n",
       "      <td>WGBS23-28_30_23_FFPE_194</td>\n",
       "      <td>0.896746</td>\n",
       "    </tr>\n",
       "    <tr>\n",
       "      <th>8</th>\n",
       "      <td>WGBS23-28_30_24_FFPE_195</td>\n",
       "      <td>H2103892-1</td>\n",
       "      <td>SCC</td>\n",
       "      <td>0.0226668</td>\n",
       "      <td>0.683282</td>\n",
       "      <td>NaN</td>\n",
       "      <td>NaN</td>\n",
       "      <td>WGBS23-28_30_24_FFPE_195</td>\n",
       "      <td>0.0226668</td>\n",
       "    </tr>\n",
       "    <tr>\n",
       "      <th>9</th>\n",
       "      <td>WGBS23-28_30_25_FFPE_196</td>\n",
       "      <td>H2103895-1</td>\n",
       "      <td>SCC</td>\n",
       "      <td>0.112724</td>\n",
       "      <td>0.766032</td>\n",
       "      <td>NaN</td>\n",
       "      <td>NaN</td>\n",
       "      <td>WGBS23-28_30_25_FFPE_196</td>\n",
       "      <td>0.112724</td>\n",
       "    </tr>\n",
       "    <tr>\n",
       "      <th>10</th>\n",
       "      <td>WGBS23-28_30_27_FFPE_200</td>\n",
       "      <td>H2104472-1</td>\n",
       "      <td>Melanoma</td>\n",
       "      <td>0.948118</td>\n",
       "      <td>0.84285</td>\n",
       "      <td>NaN</td>\n",
       "      <td>NaN</td>\n",
       "      <td>WGBS23-28_30_27_FFPE_200</td>\n",
       "      <td>0.948118</td>\n",
       "    </tr>\n",
       "    <tr>\n",
       "      <th>11</th>\n",
       "      <td>WGBS9-15_12_FFPE_178</td>\n",
       "      <td>H2011341-1</td>\n",
       "      <td>Melanoma</td>\n",
       "      <td>0.93814</td>\n",
       "      <td>0.853302</td>\n",
       "      <td>NaN</td>\n",
       "      <td>NaN</td>\n",
       "      <td>WGBS9-15_12_FFPE_178</td>\n",
       "      <td>0.93814</td>\n",
       "    </tr>\n",
       "    <tr>\n",
       "      <th>12</th>\n",
       "      <td>WGBS9-15_13_FFPE_179</td>\n",
       "      <td>H2011608-1</td>\n",
       "      <td>Melanoma</td>\n",
       "      <td>0.0297588</td>\n",
       "      <td>0.728474</td>\n",
       "      <td>NaN</td>\n",
       "      <td>NaN</td>\n",
       "      <td>WGBS9-15_13_FFPE_179</td>\n",
       "      <td>0.0297588</td>\n",
       "    </tr>\n",
       "    <tr>\n",
       "      <th>13</th>\n",
       "      <td>WGBS9-15_14_FFPE_180</td>\n",
       "      <td>H2011889-1</td>\n",
       "      <td>Melanoma</td>\n",
       "      <td>0.0424421</td>\n",
       "      <td>0.688162</td>\n",
       "      <td>NaN</td>\n",
       "      <td>NaN</td>\n",
       "      <td>WGBS9-15_14_FFPE_180</td>\n",
       "      <td>0.0424421</td>\n",
       "    </tr>\n",
       "  </tbody>\n",
       "</table>\n",
       "</div>"
      ],
      "text/plain": [
       "0                     Sample     FFPE_ID       がん種       MEnet       Lym  NaN  \\\n",
       "1                  PK2h_DC2h  H2009233-1       SCC    0.159245  0.578836  NaN   \n",
       "2      WGBS16-22_16_FFPE_183  H2100094-1  Melanoma    0.149016  0.721955  NaN   \n",
       "3      WGBS16-22_17_FFPE_184  H2100551-2  Melanoma    0.435179   0.75953  NaN   \n",
       "4      WGBS16-22_18_FFPE_185  H2100550-2       SCC   0.0645853  0.802156  NaN   \n",
       "5      WGBS16-22_20_FFPE_187  H2101326-1       SCC  0.00752026  0.600813  NaN   \n",
       "6      WGBS16-22_22_FFPE_191  H2102572-1  Melanoma   0.0662738  0.700247  NaN   \n",
       "7   WGBS23-28_30_23_FFPE_194  H2103616-1  Melanoma    0.896746   0.82837  NaN   \n",
       "8   WGBS23-28_30_24_FFPE_195  H2103892-1       SCC   0.0226668  0.683282  NaN   \n",
       "9   WGBS23-28_30_25_FFPE_196  H2103895-1       SCC    0.112724  0.766032  NaN   \n",
       "10  WGBS23-28_30_27_FFPE_200  H2104472-1  Melanoma    0.948118   0.84285  NaN   \n",
       "11      WGBS9-15_12_FFPE_178  H2011341-1  Melanoma     0.93814  0.853302  NaN   \n",
       "12      WGBS9-15_13_FFPE_179  H2011608-1  Melanoma   0.0297588  0.728474  NaN   \n",
       "13      WGBS9-15_14_FFPE_180  H2011889-1  Melanoma   0.0424421  0.688162  NaN   \n",
       "\n",
       "0   NaN                       NaN         NaN  \n",
       "1   NaN                 PK2h_DC2h    0.159245  \n",
       "2   NaN     WGBS16-22_16_FFPE_183    0.149016  \n",
       "3   NaN     WGBS16-22_17_FFPE_184    0.435179  \n",
       "4   NaN     WGBS16-22_18_FFPE_185   0.0645853  \n",
       "5   NaN     WGBS16-22_20_FFPE_187  0.00752026  \n",
       "6   NaN     WGBS16-22_22_FFPE_191   0.0662738  \n",
       "7   NaN  WGBS23-28_30_23_FFPE_194    0.896746  \n",
       "8   NaN  WGBS23-28_30_24_FFPE_195   0.0226668  \n",
       "9   NaN  WGBS23-28_30_25_FFPE_196    0.112724  \n",
       "10  NaN  WGBS23-28_30_27_FFPE_200    0.948118  \n",
       "11  NaN      WGBS9-15_12_FFPE_178     0.93814  \n",
       "12  NaN      WGBS9-15_13_FFPE_179   0.0297588  \n",
       "13  NaN      WGBS9-15_14_FFPE_180   0.0424421  "
      ]
     },
     "execution_count": 2,
     "metadata": {},
     "output_type": "execute_result"
    }
   ],
   "source": [
    "data = pd.read_excel(\"230810_HE_correlate_1927_SOM_retry.xlsx\", sheet_name = \"correlation_Lym (2)\"\n",
    "                     ,skiprows=[4,5,6,7,8,9,10,11,12,14,15,16,17] \n",
    "                     ,header=None,index_col=0).T\n",
    "data"
   ]
  },
  {
   "cell_type": "code",
   "execution_count": 3,
   "metadata": {},
   "outputs": [
    {
     "data": {
      "text/html": [
       "<div>\n",
       "<style scoped>\n",
       "    .dataframe tbody tr th:only-of-type {\n",
       "        vertical-align: middle;\n",
       "    }\n",
       "\n",
       "    .dataframe tbody tr th {\n",
       "        vertical-align: top;\n",
       "    }\n",
       "\n",
       "    .dataframe thead th {\n",
       "        text-align: right;\n",
       "    }\n",
       "</style>\n",
       "<table border=\"1\" class=\"dataframe\">\n",
       "  <thead>\n",
       "    <tr style=\"text-align: right;\">\n",
       "      <th></th>\n",
       "      <th>Sample</th>\n",
       "      <th>FFPE_ID</th>\n",
       "      <th>がん種</th>\n",
       "      <th>MEnet</th>\n",
       "      <th>Lym</th>\n",
       "    </tr>\n",
       "  </thead>\n",
       "  <tbody>\n",
       "    <tr>\n",
       "      <th>1</th>\n",
       "      <td>PK2h_DC2h</td>\n",
       "      <td>H2009233-1</td>\n",
       "      <td>SCC</td>\n",
       "      <td>0.159245</td>\n",
       "      <td>0.578836</td>\n",
       "    </tr>\n",
       "    <tr>\n",
       "      <th>2</th>\n",
       "      <td>WGBS16-22_16_FFPE_183</td>\n",
       "      <td>H2100094-1</td>\n",
       "      <td>Melanoma</td>\n",
       "      <td>0.149016</td>\n",
       "      <td>0.721955</td>\n",
       "    </tr>\n",
       "    <tr>\n",
       "      <th>3</th>\n",
       "      <td>WGBS16-22_17_FFPE_184</td>\n",
       "      <td>H2100551-2</td>\n",
       "      <td>Melanoma</td>\n",
       "      <td>0.435179</td>\n",
       "      <td>0.759530</td>\n",
       "    </tr>\n",
       "    <tr>\n",
       "      <th>4</th>\n",
       "      <td>WGBS16-22_18_FFPE_185</td>\n",
       "      <td>H2100550-2</td>\n",
       "      <td>SCC</td>\n",
       "      <td>0.064585</td>\n",
       "      <td>0.802156</td>\n",
       "    </tr>\n",
       "    <tr>\n",
       "      <th>5</th>\n",
       "      <td>WGBS16-22_20_FFPE_187</td>\n",
       "      <td>H2101326-1</td>\n",
       "      <td>SCC</td>\n",
       "      <td>0.007520</td>\n",
       "      <td>0.600813</td>\n",
       "    </tr>\n",
       "    <tr>\n",
       "      <th>6</th>\n",
       "      <td>WGBS16-22_22_FFPE_191</td>\n",
       "      <td>H2102572-1</td>\n",
       "      <td>Melanoma</td>\n",
       "      <td>0.066274</td>\n",
       "      <td>0.700247</td>\n",
       "    </tr>\n",
       "    <tr>\n",
       "      <th>7</th>\n",
       "      <td>WGBS23-28_30_23_FFPE_194</td>\n",
       "      <td>H2103616-1</td>\n",
       "      <td>Melanoma</td>\n",
       "      <td>0.896746</td>\n",
       "      <td>0.828370</td>\n",
       "    </tr>\n",
       "    <tr>\n",
       "      <th>8</th>\n",
       "      <td>WGBS23-28_30_24_FFPE_195</td>\n",
       "      <td>H2103892-1</td>\n",
       "      <td>SCC</td>\n",
       "      <td>0.022667</td>\n",
       "      <td>0.683282</td>\n",
       "    </tr>\n",
       "    <tr>\n",
       "      <th>9</th>\n",
       "      <td>WGBS23-28_30_25_FFPE_196</td>\n",
       "      <td>H2103895-1</td>\n",
       "      <td>SCC</td>\n",
       "      <td>0.112724</td>\n",
       "      <td>0.766032</td>\n",
       "    </tr>\n",
       "    <tr>\n",
       "      <th>10</th>\n",
       "      <td>WGBS23-28_30_27_FFPE_200</td>\n",
       "      <td>H2104472-1</td>\n",
       "      <td>Melanoma</td>\n",
       "      <td>0.948118</td>\n",
       "      <td>0.842850</td>\n",
       "    </tr>\n",
       "    <tr>\n",
       "      <th>11</th>\n",
       "      <td>WGBS9-15_12_FFPE_178</td>\n",
       "      <td>H2011341-1</td>\n",
       "      <td>Melanoma</td>\n",
       "      <td>0.938140</td>\n",
       "      <td>0.853302</td>\n",
       "    </tr>\n",
       "    <tr>\n",
       "      <th>12</th>\n",
       "      <td>WGBS9-15_13_FFPE_179</td>\n",
       "      <td>H2011608-1</td>\n",
       "      <td>Melanoma</td>\n",
       "      <td>0.029759</td>\n",
       "      <td>0.728474</td>\n",
       "    </tr>\n",
       "    <tr>\n",
       "      <th>13</th>\n",
       "      <td>WGBS9-15_14_FFPE_180</td>\n",
       "      <td>H2011889-1</td>\n",
       "      <td>Melanoma</td>\n",
       "      <td>0.042442</td>\n",
       "      <td>0.688162</td>\n",
       "    </tr>\n",
       "  </tbody>\n",
       "</table>\n",
       "</div>"
      ],
      "text/plain": [
       "0                     Sample     FFPE_ID       がん種     MEnet       Lym\n",
       "1                  PK2h_DC2h  H2009233-1       SCC  0.159245  0.578836\n",
       "2      WGBS16-22_16_FFPE_183  H2100094-1  Melanoma  0.149016  0.721955\n",
       "3      WGBS16-22_17_FFPE_184  H2100551-2  Melanoma  0.435179  0.759530\n",
       "4      WGBS16-22_18_FFPE_185  H2100550-2       SCC  0.064585  0.802156\n",
       "5      WGBS16-22_20_FFPE_187  H2101326-1       SCC  0.007520  0.600813\n",
       "6      WGBS16-22_22_FFPE_191  H2102572-1  Melanoma  0.066274  0.700247\n",
       "7   WGBS23-28_30_23_FFPE_194  H2103616-1  Melanoma  0.896746  0.828370\n",
       "8   WGBS23-28_30_24_FFPE_195  H2103892-1       SCC  0.022667  0.683282\n",
       "9   WGBS23-28_30_25_FFPE_196  H2103895-1       SCC  0.112724  0.766032\n",
       "10  WGBS23-28_30_27_FFPE_200  H2104472-1  Melanoma  0.948118  0.842850\n",
       "11      WGBS9-15_12_FFPE_178  H2011341-1  Melanoma  0.938140  0.853302\n",
       "12      WGBS9-15_13_FFPE_179  H2011608-1  Melanoma  0.029759  0.728474\n",
       "13      WGBS9-15_14_FFPE_180  H2011889-1  Melanoma  0.042442  0.688162"
      ]
     },
     "execution_count": 3,
     "metadata": {},
     "output_type": "execute_result"
    }
   ],
   "source": [
    "data_ob = data[[\"Sample\",\"FFPE_ID\",\"がん種\"]]\n",
    "\n",
    "data_f = data[[\"MEnet\",\"Lym\"]]\n",
    "data_f = data_f.astype(float)\n",
    "\n",
    "df = data_ob.merge(data_f,left_index=True,right_index=True)\n",
    "df"
   ]
  },
  {
   "cell_type": "code",
   "execution_count": 4,
   "metadata": {},
   "outputs": [
    {
     "name": "stderr",
     "output_type": "stream",
     "text": [
      "/Users/hagiwaramasaki/opt/anaconda3/lib/python3.8/site-packages/outdated/utils.py:14: OutdatedPackageWarning: The package outdated is out of date. Your version is 0.2.1, the latest is 0.2.2.\n",
      "Set the environment variable OUTDATED_IGNORE=1 to disable these warnings.\n",
      "  return warn(\n"
     ]
    },
    {
     "data": {
      "text/html": [
       "<div>\n",
       "<style scoped>\n",
       "    .dataframe tbody tr th:only-of-type {\n",
       "        vertical-align: middle;\n",
       "    }\n",
       "\n",
       "    .dataframe tbody tr th {\n",
       "        vertical-align: top;\n",
       "    }\n",
       "\n",
       "    .dataframe thead th {\n",
       "        text-align: right;\n",
       "    }\n",
       "</style>\n",
       "<table border=\"1\" class=\"dataframe\">\n",
       "  <thead>\n",
       "    <tr style=\"text-align: right;\">\n",
       "      <th></th>\n",
       "      <th>Sample</th>\n",
       "      <th>FFPE_ID</th>\n",
       "      <th>がん種</th>\n",
       "      <th>MEnet</th>\n",
       "      <th>Lym</th>\n",
       "    </tr>\n",
       "  </thead>\n",
       "  <tbody>\n",
       "    <tr>\n",
       "      <th>2</th>\n",
       "      <td>WGBS16-22_16_FFPE_183</td>\n",
       "      <td>H2100094-1</td>\n",
       "      <td>Melanoma</td>\n",
       "      <td>0.149016</td>\n",
       "      <td>0.721955</td>\n",
       "    </tr>\n",
       "    <tr>\n",
       "      <th>3</th>\n",
       "      <td>WGBS16-22_17_FFPE_184</td>\n",
       "      <td>H2100551-2</td>\n",
       "      <td>Melanoma</td>\n",
       "      <td>0.435179</td>\n",
       "      <td>0.759530</td>\n",
       "    </tr>\n",
       "    <tr>\n",
       "      <th>6</th>\n",
       "      <td>WGBS16-22_22_FFPE_191</td>\n",
       "      <td>H2102572-1</td>\n",
       "      <td>Melanoma</td>\n",
       "      <td>0.066274</td>\n",
       "      <td>0.700247</td>\n",
       "    </tr>\n",
       "    <tr>\n",
       "      <th>7</th>\n",
       "      <td>WGBS23-28_30_23_FFPE_194</td>\n",
       "      <td>H2103616-1</td>\n",
       "      <td>Melanoma</td>\n",
       "      <td>0.896746</td>\n",
       "      <td>0.828370</td>\n",
       "    </tr>\n",
       "    <tr>\n",
       "      <th>10</th>\n",
       "      <td>WGBS23-28_30_27_FFPE_200</td>\n",
       "      <td>H2104472-1</td>\n",
       "      <td>Melanoma</td>\n",
       "      <td>0.948118</td>\n",
       "      <td>0.842850</td>\n",
       "    </tr>\n",
       "  </tbody>\n",
       "</table>\n",
       "</div>"
      ],
      "text/plain": [
       "0                     Sample     FFPE_ID       がん種     MEnet       Lym\n",
       "2      WGBS16-22_16_FFPE_183  H2100094-1  Melanoma  0.149016  0.721955\n",
       "3      WGBS16-22_17_FFPE_184  H2100551-2  Melanoma  0.435179  0.759530\n",
       "6      WGBS16-22_22_FFPE_191  H2102572-1  Melanoma  0.066274  0.700247\n",
       "7   WGBS23-28_30_23_FFPE_194  H2103616-1  Melanoma  0.896746  0.828370\n",
       "10  WGBS23-28_30_27_FFPE_200  H2104472-1  Melanoma  0.948118  0.842850"
      ]
     },
     "execution_count": 4,
     "metadata": {},
     "output_type": "execute_result"
    },
    {
     "name": "stderr",
     "output_type": "stream",
     "text": [
      "/Users/hagiwaramasaki/opt/anaconda3/lib/python3.8/site-packages/outdated/utils.py:14: OutdatedPackageWarning: The package pingouin is out of date. Your version is 0.4.0, the latest is 0.5.3.\n",
      "Set the environment variable OUTDATED_IGNORE=1 to disable these warnings.\n",
      "  return warn(\n"
     ]
    }
   ],
   "source": [
    "df_M = df[df['がん種'] != 'SCC']\n",
    "df_M.head()"
   ]
  },
  {
   "cell_type": "code",
   "execution_count": 5,
   "metadata": {},
   "outputs": [
    {
     "data": {
      "text/html": [
       "<div>\n",
       "<style scoped>\n",
       "    .dataframe tbody tr th:only-of-type {\n",
       "        vertical-align: middle;\n",
       "    }\n",
       "\n",
       "    .dataframe tbody tr th {\n",
       "        vertical-align: top;\n",
       "    }\n",
       "\n",
       "    .dataframe thead th {\n",
       "        text-align: right;\n",
       "    }\n",
       "</style>\n",
       "<table border=\"1\" class=\"dataframe\">\n",
       "  <thead>\n",
       "    <tr style=\"text-align: right;\">\n",
       "      <th></th>\n",
       "      <th>Sample</th>\n",
       "      <th>FFPE_ID</th>\n",
       "      <th>がん種</th>\n",
       "      <th>MEnet</th>\n",
       "      <th>Lym</th>\n",
       "    </tr>\n",
       "  </thead>\n",
       "  <tbody>\n",
       "    <tr>\n",
       "      <th>1</th>\n",
       "      <td>PK2h_DC2h</td>\n",
       "      <td>H2009233-1</td>\n",
       "      <td>SCC</td>\n",
       "      <td>0.159245</td>\n",
       "      <td>0.578836</td>\n",
       "    </tr>\n",
       "    <tr>\n",
       "      <th>4</th>\n",
       "      <td>WGBS16-22_18_FFPE_185</td>\n",
       "      <td>H2100550-2</td>\n",
       "      <td>SCC</td>\n",
       "      <td>0.064585</td>\n",
       "      <td>0.802156</td>\n",
       "    </tr>\n",
       "    <tr>\n",
       "      <th>5</th>\n",
       "      <td>WGBS16-22_20_FFPE_187</td>\n",
       "      <td>H2101326-1</td>\n",
       "      <td>SCC</td>\n",
       "      <td>0.007520</td>\n",
       "      <td>0.600813</td>\n",
       "    </tr>\n",
       "    <tr>\n",
       "      <th>8</th>\n",
       "      <td>WGBS23-28_30_24_FFPE_195</td>\n",
       "      <td>H2103892-1</td>\n",
       "      <td>SCC</td>\n",
       "      <td>0.022667</td>\n",
       "      <td>0.683282</td>\n",
       "    </tr>\n",
       "    <tr>\n",
       "      <th>9</th>\n",
       "      <td>WGBS23-28_30_25_FFPE_196</td>\n",
       "      <td>H2103895-1</td>\n",
       "      <td>SCC</td>\n",
       "      <td>0.112724</td>\n",
       "      <td>0.766032</td>\n",
       "    </tr>\n",
       "  </tbody>\n",
       "</table>\n",
       "</div>"
      ],
      "text/plain": [
       "0                    Sample     FFPE_ID  がん種     MEnet       Lym\n",
       "1                 PK2h_DC2h  H2009233-1  SCC  0.159245  0.578836\n",
       "4     WGBS16-22_18_FFPE_185  H2100550-2  SCC  0.064585  0.802156\n",
       "5     WGBS16-22_20_FFPE_187  H2101326-1  SCC  0.007520  0.600813\n",
       "8  WGBS23-28_30_24_FFPE_195  H2103892-1  SCC  0.022667  0.683282\n",
       "9  WGBS23-28_30_25_FFPE_196  H2103895-1  SCC  0.112724  0.766032"
      ]
     },
     "execution_count": 5,
     "metadata": {},
     "output_type": "execute_result"
    }
   ],
   "source": [
    "df_S = df[df['がん種'] != 'Melanoma']\n",
    "df_S.head()"
   ]
  },
  {
   "cell_type": "code",
   "execution_count": 6,
   "metadata": {},
   "outputs": [
    {
     "data": {
      "text/html": [
       "<div>\n",
       "<style scoped>\n",
       "    .dataframe tbody tr th:only-of-type {\n",
       "        vertical-align: middle;\n",
       "    }\n",
       "\n",
       "    .dataframe tbody tr th {\n",
       "        vertical-align: top;\n",
       "    }\n",
       "\n",
       "    .dataframe thead th {\n",
       "        text-align: right;\n",
       "    }\n",
       "</style>\n",
       "<table border=\"1\" class=\"dataframe\">\n",
       "  <thead>\n",
       "    <tr style=\"text-align: right;\">\n",
       "      <th></th>\n",
       "      <th>Sample</th>\n",
       "      <th>FFPE_ID</th>\n",
       "      <th>がん種</th>\n",
       "      <th>MEnet</th>\n",
       "      <th>Lym</th>\n",
       "    </tr>\n",
       "  </thead>\n",
       "  <tbody>\n",
       "    <tr>\n",
       "      <th>2</th>\n",
       "      <td>WGBS16-22_16_FFPE_183</td>\n",
       "      <td>H2100094-1</td>\n",
       "      <td>Melanoma</td>\n",
       "      <td>0.149016</td>\n",
       "      <td>0.721955</td>\n",
       "    </tr>\n",
       "    <tr>\n",
       "      <th>3</th>\n",
       "      <td>WGBS16-22_17_FFPE_184</td>\n",
       "      <td>H2100551-2</td>\n",
       "      <td>Melanoma</td>\n",
       "      <td>0.435179</td>\n",
       "      <td>0.759530</td>\n",
       "    </tr>\n",
       "    <tr>\n",
       "      <th>4</th>\n",
       "      <td>WGBS16-22_18_FFPE_185</td>\n",
       "      <td>H2100550-2</td>\n",
       "      <td>SCC</td>\n",
       "      <td>0.064585</td>\n",
       "      <td>0.802156</td>\n",
       "    </tr>\n",
       "    <tr>\n",
       "      <th>5</th>\n",
       "      <td>WGBS16-22_20_FFPE_187</td>\n",
       "      <td>H2101326-1</td>\n",
       "      <td>SCC</td>\n",
       "      <td>0.007520</td>\n",
       "      <td>0.600813</td>\n",
       "    </tr>\n",
       "    <tr>\n",
       "      <th>6</th>\n",
       "      <td>WGBS16-22_22_FFPE_191</td>\n",
       "      <td>H2102572-1</td>\n",
       "      <td>Melanoma</td>\n",
       "      <td>0.066274</td>\n",
       "      <td>0.700247</td>\n",
       "    </tr>\n",
       "  </tbody>\n",
       "</table>\n",
       "</div>"
      ],
      "text/plain": [
       "0                 Sample     FFPE_ID       がん種     MEnet       Lym\n",
       "2  WGBS16-22_16_FFPE_183  H2100094-1  Melanoma  0.149016  0.721955\n",
       "3  WGBS16-22_17_FFPE_184  H2100551-2  Melanoma  0.435179  0.759530\n",
       "4  WGBS16-22_18_FFPE_185  H2100550-2       SCC  0.064585  0.802156\n",
       "5  WGBS16-22_20_FFPE_187  H2101326-1       SCC  0.007520  0.600813\n",
       "6  WGBS16-22_22_FFPE_191  H2102572-1  Melanoma  0.066274  0.700247"
      ]
     },
     "execution_count": 6,
     "metadata": {},
     "output_type": "execute_result"
    }
   ],
   "source": [
    "df_2 = df[df['FFPE_ID'] != 'H2009233-1']\n",
    "df_2.head()"
   ]
  },
  {
   "cell_type": "code",
   "execution_count": 7,
   "metadata": {},
   "outputs": [
    {
     "data": {
      "text/plain": [
       "<AxesSubplot:xlabel='MEnet', ylabel='Lym'>"
      ]
     },
     "execution_count": 7,
     "metadata": {},
     "output_type": "execute_result"
    },
    {
     "name": "stderr",
     "output_type": "stream",
     "text": [
      "/Users/hagiwaramasaki/opt/anaconda3/lib/python3.8/site-packages/IPython/core/events.py:89: UserWarning: Glyph 12364 (\\N{HIRAGANA LETTER GA}) missing from current font.\n",
      "  func(*args, **kwargs)\n",
      "/Users/hagiwaramasaki/opt/anaconda3/lib/python3.8/site-packages/IPython/core/events.py:89: UserWarning: Glyph 12435 (\\N{HIRAGANA LETTER N}) missing from current font.\n",
      "  func(*args, **kwargs)\n",
      "/Users/hagiwaramasaki/opt/anaconda3/lib/python3.8/site-packages/IPython/core/events.py:89: UserWarning: Glyph 31278 (\\N{CJK UNIFIED IDEOGRAPH-7A2E}) missing from current font.\n",
      "  func(*args, **kwargs)\n",
      "/Users/hagiwaramasaki/opt/anaconda3/lib/python3.8/site-packages/IPython/core/pylabtools.py:132: UserWarning: Glyph 12364 (\\N{HIRAGANA LETTER GA}) missing from current font.\n",
      "  fig.canvas.print_figure(bytes_io, **kw)\n",
      "/Users/hagiwaramasaki/opt/anaconda3/lib/python3.8/site-packages/IPython/core/pylabtools.py:132: UserWarning: Glyph 12435 (\\N{HIRAGANA LETTER N}) missing from current font.\n",
      "  fig.canvas.print_figure(bytes_io, **kw)\n",
      "/Users/hagiwaramasaki/opt/anaconda3/lib/python3.8/site-packages/IPython/core/pylabtools.py:132: UserWarning: Glyph 31278 (\\N{CJK UNIFIED IDEOGRAPH-7A2E}) missing from current font.\n",
      "  fig.canvas.print_figure(bytes_io, **kw)\n"
     ]
    },
    {
     "data": {
      "image/png": "[encoded data removed]",
      "text/plain": [
       "<Figure size 360x360 with 1 Axes>"
      ]
     },
     "metadata": {
      "needs_background": "light"
     },
     "output_type": "display_data"
    }
   ],
   "source": [
    "plt.figure(figsize=(5,5))\n",
    "sns.scatterplot(x=\"MEnet\", y=\"Lym\", data=df_2,hue=\"がん種\",s=100)"
   ]
  },
  {
   "cell_type": "code",
   "execution_count": 8,
   "metadata": {},
   "outputs": [
    {
     "data": {
      "text/plain": [
       "<AxesSubplot:xlabel='MEnet', ylabel='Lym'>"
      ]
     },
     "execution_count": 8,
     "metadata": {},
     "output_type": "execute_result"
    },
    {
     "name": "stderr",
     "output_type": "stream",
     "text": [
      "/Users/hagiwaramasaki/opt/anaconda3/lib/python3.8/site-packages/IPython/core/events.py:89: UserWarning: Glyph 12364 (\\N{HIRAGANA LETTER GA}) missing from current font.\n",
      "  func(*args, **kwargs)\n",
      "/Users/hagiwaramasaki/opt/anaconda3/lib/python3.8/site-packages/IPython/core/events.py:89: UserWarning: Glyph 12435 (\\N{HIRAGANA LETTER N}) missing from current font.\n",
      "  func(*args, **kwargs)\n",
      "/Users/hagiwaramasaki/opt/anaconda3/lib/python3.8/site-packages/IPython/core/events.py:89: UserWarning: Glyph 31278 (\\N{CJK UNIFIED IDEOGRAPH-7A2E}) missing from current font.\n",
      "  func(*args, **kwargs)\n",
      "/Users/hagiwaramasaki/opt/anaconda3/lib/python3.8/site-packages/IPython/core/pylabtools.py:132: UserWarning: Glyph 12364 (\\N{HIRAGANA LETTER GA}) missing from current font.\n",
      "  fig.canvas.print_figure(bytes_io, **kw)\n",
      "/Users/hagiwaramasaki/opt/anaconda3/lib/python3.8/site-packages/IPython/core/pylabtools.py:132: UserWarning: Glyph 12435 (\\N{HIRAGANA LETTER N}) missing from current font.\n",
      "  fig.canvas.print_figure(bytes_io, **kw)\n",
      "/Users/hagiwaramasaki/opt/anaconda3/lib/python3.8/site-packages/IPython/core/pylabtools.py:132: UserWarning: Glyph 31278 (\\N{CJK UNIFIED IDEOGRAPH-7A2E}) missing from current font.\n",
      "  fig.canvas.print_figure(bytes_io, **kw)\n"
     ]
    },
    {
     "data": {
      "image/png": "[encoded data removed]",
      "text/plain": [
       "<Figure size 360x360 with 1 Axes>"
      ]
     },
     "metadata": {
      "needs_background": "light"
     },
     "output_type": "display_data"
    }
   ],
   "source": [
    "plt.figure(figsize=(5,5))\n",
    "sns.scatterplot(x=\"MEnet\", y=\"Lym\", data=df,hue=\"がん種\",s=100)"
   ]
  },
  {
   "cell_type": "code",
   "execution_count": null,
   "metadata": {},
   "outputs": [],
   "source": []
  },
  {
   "cell_type": "code",
   "execution_count": 9,
   "metadata": {},
   "outputs": [
    {
     "data": {
      "text/plain": [
       "<AxesSubplot:xlabel='MEnet', ylabel='Lym'>"
      ]
     },
     "execution_count": 9,
     "metadata": {},
     "output_type": "execute_result"
    },
    {
     "name": "stderr",
     "output_type": "stream",
     "text": [
      "/Users/hagiwaramasaki/opt/anaconda3/lib/python3.8/site-packages/IPython/core/events.py:89: UserWarning: Glyph 12364 (\\N{HIRAGANA LETTER GA}) missing from current font.\n",
      "  func(*args, **kwargs)\n",
      "/Users/hagiwaramasaki/opt/anaconda3/lib/python3.8/site-packages/IPython/core/events.py:89: UserWarning: Glyph 12435 (\\N{HIRAGANA LETTER N}) missing from current font.\n",
      "  func(*args, **kwargs)\n",
      "/Users/hagiwaramasaki/opt/anaconda3/lib/python3.8/site-packages/IPython/core/events.py:89: UserWarning: Glyph 31278 (\\N{CJK UNIFIED IDEOGRAPH-7A2E}) missing from current font.\n",
      "  func(*args, **kwargs)\n",
      "/Users/hagiwaramasaki/opt/anaconda3/lib/python3.8/site-packages/IPython/core/pylabtools.py:132: UserWarning: Glyph 12364 (\\N{HIRAGANA LETTER GA}) missing from current font.\n",
      "  fig.canvas.print_figure(bytes_io, **kw)\n",
      "/Users/hagiwaramasaki/opt/anaconda3/lib/python3.8/site-packages/IPython/core/pylabtools.py:132: UserWarning: Glyph 12435 (\\N{HIRAGANA LETTER N}) missing from current font.\n",
      "  fig.canvas.print_figure(bytes_io, **kw)\n",
      "/Users/hagiwaramasaki/opt/anaconda3/lib/python3.8/site-packages/IPython/core/pylabtools.py:132: UserWarning: Glyph 31278 (\\N{CJK UNIFIED IDEOGRAPH-7A2E}) missing from current font.\n",
      "  fig.canvas.print_figure(bytes_io, **kw)\n"
     ]
    },
    {
     "data": {
      "image/png": "[encoded data removed]",
      "text/plain": [
       "<Figure size 360x360 with 1 Axes>"
      ]
     },
     "metadata": {
      "needs_background": "light"
     },
     "output_type": "display_data"
    }
   ],
   "source": [
    "plt.figure(figsize=(5,5))\n",
    "sns.scatterplot(x=\"MEnet\", y=\"Lym\", data=df,hue=\"がん種\",s=100)"
   ]
  },
  {
   "cell_type": "code",
   "execution_count": 10,
   "metadata": {},
   "outputs": [
    {
     "data": {
      "image/png": "[encoded data removed]",
      "text/plain": [
       "<Figure size 360x360 with 1 Axes>"
      ]
     },
     "metadata": {
      "needs_background": "light"
     },
     "output_type": "display_data"
    }
   ],
   "source": [
    "\n",
    "    \n",
    "# lmplot を実行\n",
    "g = sns.lmplot(x='MEnet', y='Lym', data=df_M, sharey=False, sharex=False,\n",
    "                scatter_kws={'s': 100}, # これでドットのサイズを変更\n",
    "                line_kws={'lw': 4}) # これで回帰曲線のサイズを変更\n",
    "    \n",
    "# サブプロットをPDFとして保存\n",
    "g.savefig(f'./230819_plot.pdf')"
   ]
  },
  {
   "cell_type": "code",
   "execution_count": 13,
   "metadata": {},
   "outputs": [
    {
     "data": {
      "text/plain": [
       "<AxesSubplot:xlabel='MEnet', ylabel='Lym'>"
      ]
     },
     "execution_count": 13,
     "metadata": {},
     "output_type": "execute_result"
    },
    {
     "name": "stderr",
     "output_type": "stream",
     "text": [
      "/Users/hagiwaramasaki/opt/anaconda3/lib/python3.8/site-packages/IPython/core/events.py:89: UserWarning: Glyph 12364 (\\N{HIRAGANA LETTER GA}) missing from current font.\n",
      "  func(*args, **kwargs)\n",
      "/Users/hagiwaramasaki/opt/anaconda3/lib/python3.8/site-packages/IPython/core/events.py:89: UserWarning: Glyph 12435 (\\N{HIRAGANA LETTER N}) missing from current font.\n",
      "  func(*args, **kwargs)\n",
      "/Users/hagiwaramasaki/opt/anaconda3/lib/python3.8/site-packages/IPython/core/events.py:89: UserWarning: Glyph 31278 (\\N{CJK UNIFIED IDEOGRAPH-7A2E}) missing from current font.\n",
      "  func(*args, **kwargs)\n",
      "/Users/hagiwaramasaki/opt/anaconda3/lib/python3.8/site-packages/IPython/core/pylabtools.py:132: UserWarning: Glyph 12364 (\\N{HIRAGANA LETTER GA}) missing from current font.\n",
      "  fig.canvas.print_figure(bytes_io, **kw)\n",
      "/Users/hagiwaramasaki/opt/anaconda3/lib/python3.8/site-packages/IPython/core/pylabtools.py:132: UserWarning: Glyph 12435 (\\N{HIRAGANA LETTER N}) missing from current font.\n",
      "  fig.canvas.print_figure(bytes_io, **kw)\n",
      "/Users/hagiwaramasaki/opt/anaconda3/lib/python3.8/site-packages/IPython/core/pylabtools.py:132: UserWarning: Glyph 31278 (\\N{CJK UNIFIED IDEOGRAPH-7A2E}) missing from current font.\n",
      "  fig.canvas.print_figure(bytes_io, **kw)\n"
     ]
    },
    {
     "data": {
      "image/png": "[encoded data removed]",
      "text/plain": [
       "<Figure size 360x360 with 1 Axes>"
      ]
     },
     "metadata": {
      "needs_background": "light"
     },
     "output_type": "display_data"
    }
   ],
   "source": [
    "plt.figure(figsize=(5,5))\n",
    "sns.scatterplot(x=\"MEnet\", y=\"Lym\", data=df_M,hue=\"がん種\",s=100)"
   ]
  },
  {
   "cell_type": "code",
   "execution_count": 29,
   "metadata": {},
   "outputs": [
    {
     "name": "stderr",
     "output_type": "stream",
     "text": [
      "/Users/hagiwaramasaki/opt/anaconda3/lib/python3.8/site-packages/seaborn/axisgrid.py:142: UserWarning: Glyph 12364 (\\N{HIRAGANA LETTER GA}) missing from current font.\n",
      "  self.fig.draw(self.fig.canvas.get_renderer())\n",
      "/Users/hagiwaramasaki/opt/anaconda3/lib/python3.8/site-packages/seaborn/axisgrid.py:142: UserWarning: Glyph 12435 (\\N{HIRAGANA LETTER N}) missing from current font.\n",
      "  self.fig.draw(self.fig.canvas.get_renderer())\n",
      "/Users/hagiwaramasaki/opt/anaconda3/lib/python3.8/site-packages/seaborn/axisgrid.py:142: UserWarning: Glyph 31278 (\\N{CJK UNIFIED IDEOGRAPH-7A2E}) missing from current font.\n",
      "  self.fig.draw(self.fig.canvas.get_renderer())\n",
      "/Users/hagiwaramasaki/opt/anaconda3/lib/python3.8/site-packages/seaborn/axisgrid.py:151: UserWarning: Glyph 12364 (\\N{HIRAGANA LETTER GA}) missing from current font.\n",
      "  self.fig.draw(self.fig.canvas.get_renderer())\n",
      "/Users/hagiwaramasaki/opt/anaconda3/lib/python3.8/site-packages/seaborn/axisgrid.py:151: UserWarning: Glyph 12435 (\\N{HIRAGANA LETTER N}) missing from current font.\n",
      "  self.fig.draw(self.fig.canvas.get_renderer())\n",
      "/Users/hagiwaramasaki/opt/anaconda3/lib/python3.8/site-packages/seaborn/axisgrid.py:151: UserWarning: Glyph 31278 (\\N{CJK UNIFIED IDEOGRAPH-7A2E}) missing from current font.\n",
      "  self.fig.draw(self.fig.canvas.get_renderer())\n"
     ]
    },
    {
     "data": {
      "text/plain": [
       "<seaborn.axisgrid.FacetGrid at 0x7f9558737160>"
      ]
     },
     "execution_count": 29,
     "metadata": {},
     "output_type": "execute_result"
    },
    {
     "name": "stderr",
     "output_type": "stream",
     "text": [
      "/Users/hagiwaramasaki/opt/anaconda3/lib/python3.8/site-packages/IPython/core/events.py:89: UserWarning: Glyph 12364 (\\N{HIRAGANA LETTER GA}) missing from current font.\n",
      "  func(*args, **kwargs)\n",
      "/Users/hagiwaramasaki/opt/anaconda3/lib/python3.8/site-packages/IPython/core/events.py:89: UserWarning: Glyph 12435 (\\N{HIRAGANA LETTER N}) missing from current font.\n",
      "  func(*args, **kwargs)\n",
      "/Users/hagiwaramasaki/opt/anaconda3/lib/python3.8/site-packages/IPython/core/events.py:89: UserWarning: Glyph 31278 (\\N{CJK UNIFIED IDEOGRAPH-7A2E}) missing from current font.\n",
      "  func(*args, **kwargs)\n"
     ]
    },
    {
     "data": {
      "text/plain": [
       "<Figure size 360x360 with 0 Axes>"
      ]
     },
     "metadata": {},
     "output_type": "display_data"
    },
    {
     "name": "stderr",
     "output_type": "stream",
     "text": [
      "/Users/hagiwaramasaki/opt/anaconda3/lib/python3.8/site-packages/IPython/core/pylabtools.py:132: UserWarning: Glyph 12364 (\\N{HIRAGANA LETTER GA}) missing from current font.\n",
      "  fig.canvas.print_figure(bytes_io, **kw)\n",
      "/Users/hagiwaramasaki/opt/anaconda3/lib/python3.8/site-packages/IPython/core/pylabtools.py:132: UserWarning: Glyph 12435 (\\N{HIRAGANA LETTER N}) missing from current font.\n",
      "  fig.canvas.print_figure(bytes_io, **kw)\n",
      "/Users/hagiwaramasaki/opt/anaconda3/lib/python3.8/site-packages/IPython/core/pylabtools.py:132: UserWarning: Glyph 31278 (\\N{CJK UNIFIED IDEOGRAPH-7A2E}) missing from current font.\n",
      "  fig.canvas.print_figure(bytes_io, **kw)\n"
     ]
    },
    {
     "data": {
      "image/png": "[encoded data removed]",
      "text/plain": [
       "<Figure size 447.875x360 with 1 Axes>"
      ]
     },
     "metadata": {
      "needs_background": "light"
     },
     "output_type": "display_data"
    }
   ],
   "source": [
    "plt.figure(figsize=(5,5))\n",
    "sns.lmplot(x=\"MEnet\", y=\"Lym\", data=df_2,hue=\"がん種\")"
   ]
  },
  {
   "cell_type": "code",
   "execution_count": 14,
   "metadata": {},
   "outputs": [
    {
     "name": "stderr",
     "output_type": "stream",
     "text": [
      "/Users/hagiwaramasaki/opt/anaconda3/lib/python3.8/site-packages/seaborn/axisgrid.py:142: UserWarning: Glyph 12364 (\\N{HIRAGANA LETTER GA}) missing from current font.\n",
      "  self.fig.draw(self.fig.canvas.get_renderer())\n",
      "/Users/hagiwaramasaki/opt/anaconda3/lib/python3.8/site-packages/seaborn/axisgrid.py:142: UserWarning: Glyph 12435 (\\N{HIRAGANA LETTER N}) missing from current font.\n",
      "  self.fig.draw(self.fig.canvas.get_renderer())\n",
      "/Users/hagiwaramasaki/opt/anaconda3/lib/python3.8/site-packages/seaborn/axisgrid.py:142: UserWarning: Glyph 31278 (\\N{CJK UNIFIED IDEOGRAPH-7A2E}) missing from current font.\n",
      "  self.fig.draw(self.fig.canvas.get_renderer())\n",
      "/Users/hagiwaramasaki/opt/anaconda3/lib/python3.8/site-packages/seaborn/axisgrid.py:151: UserWarning: Glyph 12364 (\\N{HIRAGANA LETTER GA}) missing from current font.\n",
      "  self.fig.draw(self.fig.canvas.get_renderer())\n",
      "/Users/hagiwaramasaki/opt/anaconda3/lib/python3.8/site-packages/seaborn/axisgrid.py:151: UserWarning: Glyph 12435 (\\N{HIRAGANA LETTER N}) missing from current font.\n",
      "  self.fig.draw(self.fig.canvas.get_renderer())\n",
      "/Users/hagiwaramasaki/opt/anaconda3/lib/python3.8/site-packages/seaborn/axisgrid.py:151: UserWarning: Glyph 31278 (\\N{CJK UNIFIED IDEOGRAPH-7A2E}) missing from current font.\n",
      "  self.fig.draw(self.fig.canvas.get_renderer())\n"
     ]
    },
    {
     "data": {
      "text/plain": [
       "<seaborn.axisgrid.FacetGrid at 0x7f95585abca0>"
      ]
     },
     "execution_count": 14,
     "metadata": {},
     "output_type": "execute_result"
    },
    {
     "name": "stderr",
     "output_type": "stream",
     "text": [
      "/Users/hagiwaramasaki/opt/anaconda3/lib/python3.8/site-packages/IPython/core/events.py:89: UserWarning: Glyph 12364 (\\N{HIRAGANA LETTER GA}) missing from current font.\n",
      "  func(*args, **kwargs)\n",
      "/Users/hagiwaramasaki/opt/anaconda3/lib/python3.8/site-packages/IPython/core/events.py:89: UserWarning: Glyph 12435 (\\N{HIRAGANA LETTER N}) missing from current font.\n",
      "  func(*args, **kwargs)\n",
      "/Users/hagiwaramasaki/opt/anaconda3/lib/python3.8/site-packages/IPython/core/events.py:89: UserWarning: Glyph 31278 (\\N{CJK UNIFIED IDEOGRAPH-7A2E}) missing from current font.\n",
      "  func(*args, **kwargs)\n"
     ]
    },
    {
     "data": {
      "text/plain": [
       "<Figure size 360x360 with 0 Axes>"
      ]
     },
     "metadata": {},
     "output_type": "display_data"
    },
    {
     "name": "stderr",
     "output_type": "stream",
     "text": [
      "/Users/hagiwaramasaki/opt/anaconda3/lib/python3.8/site-packages/IPython/core/pylabtools.py:132: UserWarning: Glyph 12364 (\\N{HIRAGANA LETTER GA}) missing from current font.\n",
      "  fig.canvas.print_figure(bytes_io, **kw)\n",
      "/Users/hagiwaramasaki/opt/anaconda3/lib/python3.8/site-packages/IPython/core/pylabtools.py:132: UserWarning: Glyph 12435 (\\N{HIRAGANA LETTER N}) missing from current font.\n",
      "  fig.canvas.print_figure(bytes_io, **kw)\n",
      "/Users/hagiwaramasaki/opt/anaconda3/lib/python3.8/site-packages/IPython/core/pylabtools.py:132: UserWarning: Glyph 31278 (\\N{CJK UNIFIED IDEOGRAPH-7A2E}) missing from current font.\n",
      "  fig.canvas.print_figure(bytes_io, **kw)\n"
     ]
    },
    {
     "data": {
      "image/png": "[encoded data removed]",
      "text/plain": [
       "<Figure size 447.875x360 with 1 Axes>"
      ]
     },
     "metadata": {
      "needs_background": "light"
     },
     "output_type": "display_data"
    }
   ],
   "source": [
    "plt.figure(figsize=(5,5))\n",
    "sns.lmplot(x=\"MEnet\", y=\"Lym\", data=df,hue=\"がん種\")"
   ]
  },
  {
   "cell_type": "code",
   "execution_count": 15,
   "metadata": {},
   "outputs": [
    {
     "data": {
      "text/plain": [
       "<AxesSubplot:xlabel='MEnet', ylabel='Lym'>"
      ]
     },
     "execution_count": 15,
     "metadata": {},
     "output_type": "execute_result"
    },
    {
     "data": {
      "image/png": "[encoded data removed]",
      "text/plain": [
       "<Figure size 360x360 with 1 Axes>"
      ]
     },
     "metadata": {
      "needs_background": "light"
     },
     "output_type": "display_data"
    }
   ],
   "source": [
    "plt.figure(figsize=(5,5))\n",
    "sns.regplot(x=\"MEnet\", y=\"Lym\", data=df)"
   ]
  },
  {
   "cell_type": "code",
   "execution_count": 25,
   "metadata": {},
   "outputs": [
    {
     "data": {
      "text/plain": [
       "<AxesSubplot:xlabel='MEnet', ylabel='Lym'>"
      ]
     },
     "execution_count": 25,
     "metadata": {},
     "output_type": "execute_result"
    },
    {
     "data": {
      "image/png": "[encoded data removed]",
      "text/plain": [
       "<Figure size 360x360 with 1 Axes>"
      ]
     },
     "metadata": {
      "needs_background": "light"
     },
     "output_type": "display_data"
    }
   ],
   "source": [
    "plt.figure(figsize=(5,5))\n",
    "sns.regplot(x=\"MEnet\", y=\"Lym\", data=df_2)"
   ]
  },
  {
   "cell_type": "code",
   "execution_count": 28,
   "metadata": {},
   "outputs": [
    {
     "data": {
      "text/plain": [
       "<AxesSubplot:xlabel='MEnet', ylabel='Lym'>"
      ]
     },
     "execution_count": 28,
     "metadata": {},
     "output_type": "execute_result"
    },
    {
     "data": {
      "image/png": "[encoded data removed]",
      "text/plain": [
       "<Figure size 360x360 with 1 Axes>"
      ]
     },
     "metadata": {
      "needs_background": "light"
     },
     "output_type": "display_data"
    }
   ],
   "source": [
    "plt.figure(figsize=(5,5))\n",
    "sns.regplot(x=\"MEnet\", y=\"Lym\", data=df_S)"
   ]
  },
  {
   "cell_type": "code",
   "execution_count": null,
   "metadata": {},
   "outputs": [],
   "source": []
  },
  {
   "cell_type": "code",
   "execution_count": 16,
   "metadata": {},
   "outputs": [
    {
     "data": {
      "text/plain": [
       "0\n",
       "Sample      object\n",
       "FFPE_ID     object\n",
       "がん種         object\n",
       "MEnet      float64\n",
       "Lym        float64\n",
       "dtype: object"
      ]
     },
     "execution_count": 16,
     "metadata": {},
     "output_type": "execute_result"
    }
   ],
   "source": [
    "df.dtypes"
   ]
  },
  {
   "cell_type": "code",
   "execution_count": null,
   "metadata": {},
   "outputs": [],
   "source": []
  },
  {
   "cell_type": "code",
   "execution_count": null,
   "metadata": {},
   "outputs": [],
   "source": []
  },
  {
   "cell_type": "code",
   "execution_count": 17,
   "metadata": {},
   "outputs": [
    {
     "data": {
      "text/html": [
       "<div>\n",
       "<style scoped>\n",
       "    .dataframe tbody tr th:only-of-type {\n",
       "        vertical-align: middle;\n",
       "    }\n",
       "\n",
       "    .dataframe tbody tr th {\n",
       "        vertical-align: top;\n",
       "    }\n",
       "\n",
       "    .dataframe thead th {\n",
       "        text-align: right;\n",
       "    }\n",
       "</style>\n",
       "<table border=\"1\" class=\"dataframe\">\n",
       "  <thead>\n",
       "    <tr style=\"text-align: right;\">\n",
       "      <th></th>\n",
       "      <th>X</th>\n",
       "      <th>Y</th>\n",
       "      <th>method</th>\n",
       "      <th>alternative</th>\n",
       "      <th>n</th>\n",
       "      <th>r</th>\n",
       "      <th>CI95%</th>\n",
       "      <th>p-unc</th>\n",
       "      <th>BF10</th>\n",
       "      <th>power</th>\n",
       "    </tr>\n",
       "  </thead>\n",
       "  <tbody>\n",
       "    <tr>\n",
       "      <th>0</th>\n",
       "      <td>MEnet</td>\n",
       "      <td>Lym</td>\n",
       "      <td>pearson</td>\n",
       "      <td>two-sided</td>\n",
       "      <td>13</td>\n",
       "      <td>0.727222</td>\n",
       "      <td>[0.29, 0.91]</td>\n",
       "      <td>0.004851</td>\n",
       "      <td>12.088</td>\n",
       "      <td>0.852018</td>\n",
       "    </tr>\n",
       "  </tbody>\n",
       "</table>\n",
       "</div>"
      ],
      "text/plain": [
       "       X    Y   method alternative   n         r         CI95%     p-unc  \\\n",
       "0  MEnet  Lym  pearson   two-sided  13  0.727222  [0.29, 0.91]  0.004851   \n",
       "\n",
       "     BF10     power  \n",
       "0  12.088  0.852018  "
      ]
     },
     "execution_count": 17,
     "metadata": {},
     "output_type": "execute_result"
    }
   ],
   "source": [
    "pg.pairwise_corr(df, columns=['MEnet', 'Lym'], method='pearson')"
   ]
  },
  {
   "cell_type": "code",
   "execution_count": 18,
   "metadata": {},
   "outputs": [
    {
     "data": {
      "text/html": [
       "<div>\n",
       "<style scoped>\n",
       "    .dataframe tbody tr th:only-of-type {\n",
       "        vertical-align: middle;\n",
       "    }\n",
       "\n",
       "    .dataframe tbody tr th {\n",
       "        vertical-align: top;\n",
       "    }\n",
       "\n",
       "    .dataframe thead th {\n",
       "        text-align: right;\n",
       "    }\n",
       "</style>\n",
       "<table border=\"1\" class=\"dataframe\">\n",
       "  <thead>\n",
       "    <tr style=\"text-align: right;\">\n",
       "      <th></th>\n",
       "      <th>X</th>\n",
       "      <th>Y</th>\n",
       "      <th>method</th>\n",
       "      <th>alternative</th>\n",
       "      <th>n</th>\n",
       "      <th>r</th>\n",
       "      <th>CI95%</th>\n",
       "      <th>p-unc</th>\n",
       "      <th>BF10</th>\n",
       "      <th>power</th>\n",
       "    </tr>\n",
       "  </thead>\n",
       "  <tbody>\n",
       "    <tr>\n",
       "      <th>0</th>\n",
       "      <td>MEnet</td>\n",
       "      <td>Lym</td>\n",
       "      <td>pearson</td>\n",
       "      <td>two-sided</td>\n",
       "      <td>8</td>\n",
       "      <td>0.98039</td>\n",
       "      <td>[0.89, 1.0]</td>\n",
       "      <td>0.000019</td>\n",
       "      <td>576.406</td>\n",
       "      <td>0.999592</td>\n",
       "    </tr>\n",
       "  </tbody>\n",
       "</table>\n",
       "</div>"
      ],
      "text/plain": [
       "       X    Y   method alternative  n        r        CI95%     p-unc  \\\n",
       "0  MEnet  Lym  pearson   two-sided  8  0.98039  [0.89, 1.0]  0.000019   \n",
       "\n",
       "      BF10     power  \n",
       "0  576.406  0.999592  "
      ]
     },
     "execution_count": 18,
     "metadata": {},
     "output_type": "execute_result"
    }
   ],
   "source": [
    "pg.pairwise_corr(df_M, columns=['MEnet', 'Lym'], method='pearson')"
   ]
  },
  {
   "cell_type": "code",
   "execution_count": 26,
   "metadata": {},
   "outputs": [
    {
     "data": {
      "text/html": [
       "<div>\n",
       "<style scoped>\n",
       "    .dataframe tbody tr th:only-of-type {\n",
       "        vertical-align: middle;\n",
       "    }\n",
       "\n",
       "    .dataframe tbody tr th {\n",
       "        vertical-align: top;\n",
       "    }\n",
       "\n",
       "    .dataframe thead th {\n",
       "        text-align: right;\n",
       "    }\n",
       "</style>\n",
       "<table border=\"1\" class=\"dataframe\">\n",
       "  <thead>\n",
       "    <tr style=\"text-align: right;\">\n",
       "      <th></th>\n",
       "      <th>X</th>\n",
       "      <th>Y</th>\n",
       "      <th>method</th>\n",
       "      <th>alternative</th>\n",
       "      <th>n</th>\n",
       "      <th>r</th>\n",
       "      <th>CI95%</th>\n",
       "      <th>p-unc</th>\n",
       "      <th>BF10</th>\n",
       "      <th>power</th>\n",
       "    </tr>\n",
       "  </thead>\n",
       "  <tbody>\n",
       "    <tr>\n",
       "      <th>0</th>\n",
       "      <td>MEnet</td>\n",
       "      <td>Lym</td>\n",
       "      <td>pearson</td>\n",
       "      <td>two-sided</td>\n",
       "      <td>12</td>\n",
       "      <td>0.799813</td>\n",
       "      <td>[0.42, 0.94]</td>\n",
       "      <td>0.00179</td>\n",
       "      <td>26.904</td>\n",
       "      <td>0.924221</td>\n",
       "    </tr>\n",
       "  </tbody>\n",
       "</table>\n",
       "</div>"
      ],
      "text/plain": [
       "       X    Y   method alternative   n         r         CI95%    p-unc  \\\n",
       "0  MEnet  Lym  pearson   two-sided  12  0.799813  [0.42, 0.94]  0.00179   \n",
       "\n",
       "     BF10     power  \n",
       "0  26.904  0.924221  "
      ]
     },
     "execution_count": 26,
     "metadata": {},
     "output_type": "execute_result"
    }
   ],
   "source": [
    "pg.pairwise_corr(df_2, columns=['MEnet', 'Lym'], method='pearson')"
   ]
  },
  {
   "cell_type": "code",
   "execution_count": null,
   "metadata": {},
   "outputs": [],
   "source": []
  }
 ],
 "metadata": {
  "kernelspec": {
   "display_name": "Python 3",
   "language": "python",
   "name": "python3"
  },
  "language_info": {
   "codemirror_mode": {
    "name": "ipython",
    "version": 3
   },
   "file_extension": ".py",
   "mimetype": "text/x-python",
   "name": "python",
   "nbconvert_exporter": "python",
   "pygments_lexer": "ipython3",
   "version": "3.8.5"
  }
 },
 "nbformat": 4,
 "nbformat_minor": 4
}
